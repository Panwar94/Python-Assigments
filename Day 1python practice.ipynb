{
 "cells": [
  {
   "cell_type": "code",
   "execution_count": 2,
   "id": "7fdaaffd",
   "metadata": {},
   "outputs": [
    {
     "name": "stdout",
     "output_type": "stream",
     "text": [
      "nkasndnfk\n"
     ]
    },
    {
     "data": {
      "text/plain": [
       "'nkasndnfk'"
      ]
     },
     "execution_count": 2,
     "metadata": {},
     "output_type": "execute_result"
    }
   ],
   "source": [
    "input()"
   ]
  },
  {
   "cell_type": "code",
   "execution_count": 3,
   "id": "07586572",
   "metadata": {},
   "outputs": [
    {
     "name": "stdout",
     "output_type": "stream",
     "text": [
      "pankaj\n"
     ]
    }
   ],
   "source": [
    "a= input()"
   ]
  },
  {
   "cell_type": "code",
   "execution_count": 4,
   "id": "3c2e2563",
   "metadata": {},
   "outputs": [
    {
     "data": {
      "text/plain": [
       "'pankaj'"
      ]
     },
     "execution_count": 4,
     "metadata": {},
     "output_type": "execute_result"
    }
   ],
   "source": [
    "a"
   ]
  },
  {
   "cell_type": "code",
   "execution_count": 5,
   "id": "0da64aeb",
   "metadata": {},
   "outputs": [],
   "source": [
    "b=398"
   ]
  },
  {
   "cell_type": "code",
   "execution_count": 9,
   "id": "837941b9",
   "metadata": {},
   "outputs": [],
   "source": []
  },
  {
   "cell_type": "code",
   "execution_count": 12,
   "id": "5403f6f2",
   "metadata": {},
   "outputs": [
    {
     "name": "stdout",
     "output_type": "stream",
     "text": [
      "9875\n"
     ]
    }
   ],
   "source": [
    "A=input()"
   ]
  },
  {
   "cell_type": "code",
   "execution_count": 13,
   "id": "cad4f87d",
   "metadata": {},
   "outputs": [
    {
     "data": {
      "text/plain": [
       "'9875'"
      ]
     },
     "execution_count": 13,
     "metadata": {},
     "output_type": "execute_result"
    }
   ],
   "source": [
    "A"
   ]
  },
  {
   "cell_type": "code",
   "execution_count": 14,
   "id": "c5601a20",
   "metadata": {},
   "outputs": [],
   "source": [
    "b=987"
   ]
  },
  {
   "cell_type": "code",
   "execution_count": 16,
   "id": "fab4f30c",
   "metadata": {},
   "outputs": [
    {
     "data": {
      "text/plain": [
       "10862"
      ]
     },
     "execution_count": 16,
     "metadata": {},
     "output_type": "execute_result"
    }
   ],
   "source": [
    "int(A)+b"
   ]
  },
  {
   "cell_type": "code",
   "execution_count": 17,
   "id": "97b8a1ca",
   "metadata": {},
   "outputs": [
    {
     "data": {
      "text/plain": [
       "'9876'"
      ]
     },
     "execution_count": 17,
     "metadata": {},
     "output_type": "execute_result"
    }
   ],
   "source": [
    "str(9876)"
   ]
  },
  {
   "cell_type": "code",
   "execution_count": 19,
   "id": "c7b4a2b8",
   "metadata": {},
   "outputs": [
    {
     "data": {
      "text/plain": [
       "'8976'"
      ]
     },
     "execution_count": 19,
     "metadata": {},
     "output_type": "execute_result"
    }
   ],
   "source": [
    "str(8976)"
   ]
  },
  {
   "cell_type": "code",
   "execution_count": 26,
   "id": "93080cfa",
   "metadata": {},
   "outputs": [],
   "source": [
    "A=\"pankaj\""
   ]
  },
  {
   "cell_type": "code",
   "execution_count": 27,
   "id": "286e7a57",
   "metadata": {},
   "outputs": [
    {
     "data": {
      "text/plain": [
       "'pankaj'"
      ]
     },
     "execution_count": 27,
     "metadata": {},
     "output_type": "execute_result"
    }
   ],
   "source": [
    "A"
   ]
  },
  {
   "cell_type": "code",
   "execution_count": null,
   "id": "b44ea3ef",
   "metadata": {},
   "outputs": [],
   "source": []
  }
 ],
 "metadata": {
  "kernelspec": {
   "display_name": "Python 3 (ipykernel)",
   "language": "python",
   "name": "python3"
  },
  "language_info": {
   "codemirror_mode": {
    "name": "ipython",
    "version": 3
   },
   "file_extension": ".py",
   "mimetype": "text/x-python",
   "name": "python",
   "nbconvert_exporter": "python",
   "pygments_lexer": "ipython3",
   "version": "3.9.7"
  }
 },
 "nbformat": 4,
 "nbformat_minor": 5
}
